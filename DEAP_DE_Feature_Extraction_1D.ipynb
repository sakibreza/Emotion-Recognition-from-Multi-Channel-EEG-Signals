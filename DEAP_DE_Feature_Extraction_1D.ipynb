{
  "nbformat": 4,
  "nbformat_minor": 0,
  "metadata": {
    "colab": {
      "name": "DEAP_DE_Feature_Extraction_1D.ipynb",
      "provenance": [],
      "include_colab_link": true
    },
    "kernelspec": {
      "name": "python3",
      "display_name": "Python 3"
    },
    "language_info": {
      "name": "python"
    },
    "accelerator": "GPU"
  },
  "cells": [
    {
      "cell_type": "markdown",
      "metadata": {
        "id": "view-in-github",
        "colab_type": "text"
      },
      "source": [
        "<a href=\"https://colab.research.google.com/github/sakibreza/Emotion-Recognition-from-Multi-Channel-EEG-Signals/blob/main/DEAP_DE_Feature_Extraction_1D.ipynb\" target=\"_parent\"><img src=\"https://colab.research.google.com/assets/colab-badge.svg\" alt=\"Open In Colab\"/></a>"
      ]
    },
    {
      "cell_type": "code",
      "metadata": {
        "id": "bFbWoufBGrtZ"
      },
      "source": [
        "from google.colab import drive\n",
        "import pickle as pickle\n",
        "import matplotlib.pyplot as plt\n",
        "import os\n",
        "import sys\n",
        "import math\n",
        "import numpy as np\n",
        "import pandas as pd\n",
        "import scipy.io as sio\n",
        "from sklearn import preprocessing\n",
        "from scipy.signal import butter, lfilter"
      ],
      "execution_count": 3,
      "outputs": []
    },
    {
      "cell_type": "code",
      "metadata": {
        "colab": {
          "base_uri": "https://localhost:8080/"
        },
        "id": "JtKnlxXof0xf",
        "outputId": "973bf724-603c-4a86-ba65-c68a7b4ca8d7"
      },
      "source": [
        "drive.mount('/content/drive')"
      ],
      "execution_count": 5,
      "outputs": [
        {
          "output_type": "stream",
          "name": "stdout",
          "text": [
            "Mounted at /content/drive\n"
          ]
        }
      ]
    },
    {
      "cell_type": "code",
      "metadata": {
        "colab": {
          "base_uri": "https://localhost:8080/"
        },
        "id": "WaU2Q6KAf21r",
        "outputId": "6b942d2e-e174-4e87-dbdf-cf9078322eb4"
      },
      "source": [
        "import os\n",
        "path = '/content/drive/MyDrive/DEAP'\n",
        "os.chdir(path)\n",
        "print(os.getcwd()) "
      ],
      "execution_count": null,
      "outputs": [
        {
          "output_type": "stream",
          "name": "stdout",
          "text": [
            "/content/drive/MyDrive/DEAP\n"
          ]
        }
      ]
    },
    {
      "cell_type": "code",
      "metadata": {
        "id": "SSBfjoPhgKNa"
      },
      "source": [
        "def butter_bandpass(lowcut, highcut, fs, order=5):\n",
        "\tnyq = 0.5 * fs\n",
        "\tlow = lowcut / nyq\n",
        "\thigh = highcut / nyq\n",
        "\tb, a = butter(order, [low, high], btype='band')\n",
        "\treturn b, a\n",
        "\n",
        "def butter_bandpass_filter(data, lowcut, highcut, fs, order=5):\n",
        "\tb, a = butter_bandpass(lowcut, highcut, fs, order=order)\n",
        "\ty = lfilter(b, a, data)\n",
        "\treturn y\n",
        "\n",
        "def compute_DE(signal):\n",
        "\tvariance = np.var(signal,ddof=1)\n",
        "\treturn math.log(2*math.pi*math.e*variance)/2\n",
        "\n",
        "def decompose(file_name):\n",
        "\t# trial*channel*sample\n",
        "\tstart_index = 384 #3s pre-trial signals\n",
        "\twith open(file_name, 'rb') as file:\n",
        "\t\tsubject = pickle.load(file, encoding='latin1')\n",
        "\tdata = subject['data']\n",
        "\tshape = data.shape\n",
        "\tfrequency = 128\n",
        "\n",
        "\tdecomposed_de = np.empty([0,4,60])\n",
        "\n",
        "\tbase_DE = np.empty([0,128])\n",
        "\n",
        "\tfor trial in range(40):\n",
        "\t\ttemp_base_DE = np.empty([0])\n",
        "\t\ttemp_base_theta_DE = np.empty([0])\n",
        "\t\ttemp_base_alpha_DE = np.empty([0])\n",
        "\t\ttemp_base_beta_DE = np.empty([0])\n",
        "\t\ttemp_base_gamma_DE = np.empty([0])\n",
        "\n",
        "\t\ttemp_de = np.empty([0,60])\n",
        "\n",
        "\t\tfor channel in range(32):\n",
        "\t\t\ttrial_signal = data[trial,channel,384:]\n",
        "\t\t\tbase_signal = data[trial,channel,:384]\n",
        "\t\t\t#****************compute base DE****************\n",
        "\t\t\tbase_theta = butter_bandpass_filter(base_signal, 4, 8, frequency, order=3)\n",
        "\t\t\tbase_alpha = butter_bandpass_filter(base_signal, 8,14, frequency, order=3)\n",
        "\t\t\tbase_beta = butter_bandpass_filter(base_signal,14,31, frequency, order=3)\n",
        "\t\t\tbase_gamma = butter_bandpass_filter(base_signal,31,45, frequency, order=3)\n",
        "\n",
        "\t\t\tbase_theta_DE = (compute_DE(base_theta[:128])+compute_DE(base_theta[128:256])+compute_DE(base_theta[256:]))/3\n",
        "\t\t\tbase_alpha_DE =(compute_DE(base_alpha[:128])+compute_DE(base_alpha[128:256])+compute_DE(base_alpha[256:]))/3\n",
        "\t\t\tbase_beta_DE =(compute_DE(base_beta[:128])+compute_DE(base_beta[128:256])+compute_DE(base_beta[256:]))/3\n",
        "\t\t\tbase_gamma_DE =(compute_DE(base_gamma[:128])+compute_DE(base_gamma[128:256])+compute_DE(base_gamma[256:]))/3\n",
        "\n",
        "\t\t\ttemp_base_theta_DE = np.append(temp_base_theta_DE,base_theta_DE)\n",
        "\t\t\ttemp_base_gamma_DE = np.append(temp_base_gamma_DE,base_gamma_DE)\n",
        "\t\t\ttemp_base_beta_DE = np.append(temp_base_beta_DE,base_beta_DE)\n",
        "\t\t\ttemp_base_alpha_DE = np.append(temp_base_alpha_DE,base_alpha_DE)\n",
        "\n",
        "\t\t\ttheta = butter_bandpass_filter(trial_signal, 4, 8, frequency, order=3)\n",
        "\t\t\talpha = butter_bandpass_filter(trial_signal, 8, 14, frequency, order=3)\n",
        "\t\t\tbeta = butter_bandpass_filter(trial_signal, 14, 31, frequency, order=3)\n",
        "\t\t\tgamma = butter_bandpass_filter(trial_signal, 31, 45, frequency, order=3)\n",
        "\n",
        "\t\t\tDE_theta = np.zeros(shape=[0],dtype = float)\n",
        "\t\t\tDE_alpha = np.zeros(shape=[0],dtype = float)\n",
        "\t\t\tDE_beta =  np.zeros(shape=[0],dtype = float)\n",
        "\t\t\tDE_gamma = np.zeros(shape=[0],dtype = float)\n",
        "\n",
        "\t\t\tfor index in range(60):\n",
        "\t\t\t\tDE_theta =np.append(DE_theta,compute_DE(theta[index*frequency:(index+1)*frequency]))\n",
        "\t\t\t\tDE_alpha =np.append(DE_alpha,compute_DE(alpha[index*frequency:(index+1)*frequency]))\n",
        "\t\t\t\tDE_beta =np.append(DE_beta,compute_DE(beta[index*frequency:(index+1)*frequency]))\n",
        "\t\t\t\tDE_gamma =np.append(DE_gamma,compute_DE(gamma[index*frequency:(index+1)*frequency]))\n",
        "\t\t\ttemp_de = np.vstack([temp_de,DE_theta])\n",
        "\t\t\ttemp_de = np.vstack([temp_de,DE_alpha])\n",
        "\t\t\ttemp_de = np.vstack([temp_de,DE_beta])\n",
        "\t\t\ttemp_de = np.vstack([temp_de,DE_gamma])\n",
        "\t\ttemp_trial_de = temp_de.reshape(-1,4,60)\n",
        "\t\tdecomposed_de = np.vstack([decomposed_de,temp_trial_de])\n",
        "\n",
        "\t\ttemp_base_DE = np.append(temp_base_theta_DE,temp_base_alpha_DE)\n",
        "\t\ttemp_base_DE = np.append(temp_base_DE,temp_base_beta_DE)\n",
        "\t\ttemp_base_DE = np.append(temp_base_DE,temp_base_gamma_DE)\n",
        "\t\tbase_DE = np.vstack([base_DE,temp_base_DE])\n",
        "  \n",
        "\tdecomposed_de = decomposed_de.reshape(-1,32,4,60).transpose([0,3,2,1]).reshape(-1,4,32).reshape(-1,128)\n",
        "\tprint(\"base_DE shape:\",base_DE.shape)\n",
        "\tprint(\"trial_DE shape:\",decomposed_de.shape)\n",
        "\treturn base_DE,decomposed_de\n",
        "\n",
        "def get_labels(file_name):\n",
        "\twith open(file_name, 'rb') as file:\n",
        "\t\tsubject = pickle.load(file, encoding='latin1')\n",
        "\tlabels = subject['labels']  \n",
        "\t#0 valence, 1 arousal, 2 dominance, 3 liking\n",
        "\tvalence_labels = labels[:,0]>5\t# valence labels\n",
        "\tarousal_labels = labels[:,1]>5\t# arousal labels\n",
        "\tfinal_valence_labels = np.empty([0])\n",
        "\tfinal_arousal_labels = np.empty([0])\n",
        "\tfor i in range(len(valence_labels)):\n",
        "\t\tfor j in range(0,60):\n",
        "\t\t\tfinal_valence_labels = np.append(final_valence_labels,valence_labels[i])\n",
        "\t\t\tfinal_arousal_labels = np.append(final_arousal_labels,arousal_labels[i])\n",
        "\tprint(\"labels:\",final_arousal_labels.shape)\n",
        "\treturn final_arousal_labels,final_valence_labels\n"
      ],
      "execution_count": null,
      "outputs": []
    },
    {
      "cell_type": "code",
      "metadata": {
        "id": "NY0BdpFT6mfi",
        "colab": {
          "base_uri": "https://localhost:8080/"
        },
        "outputId": "f3e96292-549b-499f-b581-0232672e15e4"
      },
      "source": [
        "dataset_dir = \"/content/drive/MyDrive/DEAP/\"\n",
        "\n",
        "result_dir = \"/content/drive/MyDrive/DEAP_DE/\"\n",
        "if os.path.isdir(result_dir)==False:\n",
        "  os.makedirs(result_dir)\n",
        "\n",
        "for file in os.listdir(dataset_dir):\n",
        "  if file == '.ipynb_checkpoints': continue \n",
        "  print(\"processing: \",file,\"......\")\n",
        "  file_path = os.path.join(dataset_dir,file)\n",
        "  base_DE,trial_DE = decompose(file_path)\n",
        "  arousal_labels,valence_labels = get_labels(file_path)\n",
        "  sio.savemat(result_dir+\"DE_\"+file[:-4]+'.mat',{\"base_data\":base_DE,\"data\":trial_DE,\"valence_labels\":valence_labels,\"arousal_labels\":arousal_labels})"
      ],
      "execution_count": null,
      "outputs": [
        {
          "output_type": "stream",
          "name": "stdout",
          "text": [
            "processing:  s01.dat ......\n",
            "base_DE shape: (40, 128)\n",
            "trial_DE shape: (2400, 128)\n",
            "labels: (2400,)\n",
            "processing:  s02.dat ......\n",
            "base_DE shape: (40, 128)\n",
            "trial_DE shape: (2400, 128)\n",
            "labels: (2400,)\n",
            "processing:  s03.dat ......\n",
            "base_DE shape: (40, 128)\n",
            "trial_DE shape: (2400, 128)\n",
            "labels: (2400,)\n",
            "processing:  s04.dat ......\n",
            "base_DE shape: (40, 128)\n",
            "trial_DE shape: (2400, 128)\n",
            "labels: (2400,)\n",
            "processing:  s05.dat ......\n",
            "base_DE shape: (40, 128)\n",
            "trial_DE shape: (2400, 128)\n",
            "labels: (2400,)\n",
            "processing:  s06.dat ......\n",
            "base_DE shape: (40, 128)\n",
            "trial_DE shape: (2400, 128)\n",
            "labels: (2400,)\n",
            "processing:  s07.dat ......\n",
            "base_DE shape: (40, 128)\n",
            "trial_DE shape: (2400, 128)\n",
            "labels: (2400,)\n",
            "processing:  s08.dat ......\n",
            "base_DE shape: (40, 128)\n",
            "trial_DE shape: (2400, 128)\n",
            "labels: (2400,)\n",
            "processing:  s09.dat ......\n",
            "base_DE shape: (40, 128)\n",
            "trial_DE shape: (2400, 128)\n",
            "labels: (2400,)\n",
            "processing:  s10.dat ......\n",
            "base_DE shape: (40, 128)\n",
            "trial_DE shape: (2400, 128)\n",
            "labels: (2400,)\n",
            "processing:  s11.dat ......\n",
            "base_DE shape: (40, 128)\n",
            "trial_DE shape: (2400, 128)\n",
            "labels: (2400,)\n",
            "processing:  s12.dat ......\n",
            "base_DE shape: (40, 128)\n",
            "trial_DE shape: (2400, 128)\n",
            "labels: (2400,)\n",
            "processing:  s13.dat ......\n",
            "base_DE shape: (40, 128)\n",
            "trial_DE shape: (2400, 128)\n",
            "labels: (2400,)\n",
            "processing:  s14.dat ......\n",
            "base_DE shape: (40, 128)\n",
            "trial_DE shape: (2400, 128)\n",
            "labels: (2400,)\n",
            "processing:  s15.dat ......\n",
            "base_DE shape: (40, 128)\n",
            "trial_DE shape: (2400, 128)\n",
            "labels: (2400,)\n",
            "processing:  s16.dat ......\n",
            "base_DE shape: (40, 128)\n",
            "trial_DE shape: (2400, 128)\n",
            "labels: (2400,)\n",
            "processing:  s17.dat ......\n",
            "base_DE shape: (40, 128)\n",
            "trial_DE shape: (2400, 128)\n",
            "labels: (2400,)\n",
            "processing:  s18.dat ......\n",
            "base_DE shape: (40, 128)\n",
            "trial_DE shape: (2400, 128)\n",
            "labels: (2400,)\n",
            "processing:  s19.dat ......\n",
            "base_DE shape: (40, 128)\n",
            "trial_DE shape: (2400, 128)\n",
            "labels: (2400,)\n",
            "processing:  s20.dat ......\n",
            "base_DE shape: (40, 128)\n",
            "trial_DE shape: (2400, 128)\n",
            "labels: (2400,)\n",
            "processing:  s21.dat ......\n",
            "base_DE shape: (40, 128)\n",
            "trial_DE shape: (2400, 128)\n",
            "labels: (2400,)\n",
            "processing:  s22.dat ......\n",
            "base_DE shape: (40, 128)\n",
            "trial_DE shape: (2400, 128)\n",
            "labels: (2400,)\n",
            "processing:  s23.dat ......\n",
            "base_DE shape: (40, 128)\n",
            "trial_DE shape: (2400, 128)\n",
            "labels: (2400,)\n",
            "processing:  s24.dat ......\n",
            "base_DE shape: (40, 128)\n",
            "trial_DE shape: (2400, 128)\n",
            "labels: (2400,)\n",
            "processing:  s25.dat ......\n",
            "base_DE shape: (40, 128)\n",
            "trial_DE shape: (2400, 128)\n",
            "labels: (2400,)\n",
            "processing:  s26.dat ......\n",
            "base_DE shape: (40, 128)\n",
            "trial_DE shape: (2400, 128)\n",
            "labels: (2400,)\n",
            "processing:  s27.dat ......\n",
            "base_DE shape: (40, 128)\n",
            "trial_DE shape: (2400, 128)\n",
            "labels: (2400,)\n",
            "processing:  s28.dat ......\n",
            "base_DE shape: (40, 128)\n",
            "trial_DE shape: (2400, 128)\n",
            "labels: (2400,)\n",
            "processing:  s29.dat ......\n",
            "base_DE shape: (40, 128)\n",
            "trial_DE shape: (2400, 128)\n",
            "labels: (2400,)\n",
            "processing:  s30.dat ......\n",
            "base_DE shape: (40, 128)\n",
            "trial_DE shape: (2400, 128)\n",
            "labels: (2400,)\n",
            "processing:  s31.dat ......\n",
            "base_DE shape: (40, 128)\n",
            "trial_DE shape: (2400, 128)\n",
            "labels: (2400,)\n",
            "processing:  s32.dat ......\n",
            "base_DE shape: (40, 128)\n",
            "trial_DE shape: (2400, 128)\n",
            "labels: (2400,)\n"
          ]
        }
      ]
    },
    {
      "cell_type": "code",
      "metadata": {
        "id": "1jLZVfgHtr0e"
      },
      "source": [
        ""
      ],
      "execution_count": null,
      "outputs": []
    }
  ]
}