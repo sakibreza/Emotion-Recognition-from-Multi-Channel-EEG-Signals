{
  "nbformat": 4,
  "nbformat_minor": 5,
  "metadata": {
    "kernelspec": {
      "display_name": "Python 3",
      "language": "python",
      "name": "python3"
    },
    "language_info": {
      "codemirror_mode": {
        "name": "ipython",
        "version": 3
      },
      "file_extension": ".py",
      "mimetype": "text/x-python",
      "name": "python",
      "nbconvert_exporter": "python",
      "pygments_lexer": "ipython3",
      "version": "3.7.9"
    },
    "papermill": {
      "default_parameters": {},
      "duration": 3736.378396,
      "end_time": "2021-04-21T09:51:55.964848",
      "environment_variables": {},
      "exception": null,
      "input_path": "__notebook__.ipynb",
      "output_path": "__notebook__.ipynb",
      "parameters": {},
      "start_time": "2021-04-21T08:49:39.586452",
      "version": "2.3.2"
    },
    "colab": {
      "name": "sklearn-deap-ML-training-SVM.ipynb",
      "provenance": [],
      "include_colab_link": true
    }
  },
  "cells": [
    {
      "cell_type": "markdown",
      "metadata": {
        "id": "view-in-github",
        "colab_type": "text"
      },
      "source": [
        "<a href=\"https://colab.research.google.com/github/sakibreza/Emotion-Recognition-from-Multi-Channel-EEG-Signals/blob/main/sklearn_deap_ML_training_SVM.ipynb\" target=\"_parent\"><img src=\"https://colab.research.google.com/assets/colab-badge.svg\" alt=\"Open In Colab\"/></a>"
      ]
    },
    {
      "cell_type": "code",
      "metadata": {
        "_cell_guid": "b1076dfc-b9ad-4769-8c92-a6c4dae69d19",
        "_uuid": "8f2839f25d086af736a60e9eeb907d3b93b6e0e5",
        "execution": {
          "iopub.execute_input": "2021-04-21T08:49:44.633889Z",
          "iopub.status.busy": "2021-04-21T08:49:44.633240Z",
          "iopub.status.idle": "2021-04-21T08:49:49.756761Z",
          "shell.execute_reply": "2021-04-21T08:49:49.757741Z"
        },
        "papermill": {
          "duration": 5.139622,
          "end_time": "2021-04-21T08:49:49.758038",
          "exception": false,
          "start_time": "2021-04-21T08:49:44.618416",
          "status": "completed"
        },
        "tags": [],
        "id": "sunset-slovenia"
      },
      "source": [
        "# from google.colab import drive\n",
        "import pickle as pickle\n",
        "import matplotlib.pyplot as plt\n",
        "import os\n",
        "import sys\n",
        "import math\n",
        "import numpy as np\n",
        "import pandas as pd\n",
        "import scipy.io as sio\n",
        "from sklearn import preprocessing\n",
        "from scipy.signal import butter, lfilter\n",
        "import sklearn\n",
        "from sklearn.metrics import precision_score\n",
        "from sklearn.metrics import recall_score\n",
        "from sklearn.metrics import roc_auc_score\n",
        "from sklearn.metrics import f1_score\n",
        "from sklearn.metrics import confusion_matrix\n",
        "from sklearn.metrics import roc_curve\n",
        "from sklearn.metrics import auc\n",
        "from sklearn.linear_model import LogisticRegression\n",
        "from sklearn.tree import DecisionTreeClassifier\n",
        "from sklearn.neural_network import MLPClassifier\n",
        "from sklearn import svm\n",
        "from sklearn.metrics import accuracy_score\n",
        "from scipy.io import loadmat \n",
        "import time\n",
        "import torch\n",
        "import torch.nn as nn\n",
        "import torch.nn.functional as F\n",
        "from torch.utils.data import Dataset\n",
        "import pandas as pd\n",
        "import matplotlib.pyplot as plt\n",
        "from sklearn.model_selection import train_test_split\n",
        "import numpy as np\n",
        "torch.manual_seed(13)\n",
        "np.random.seed(7)"
      ],
      "id": "sunset-slovenia",
      "execution_count": null,
      "outputs": []
    },
    {
      "cell_type": "code",
      "source": [
        "from google.colab import drive\n",
        "drive.mount('/content/drive')"
      ],
      "metadata": {
        "colab": {
          "base_uri": "https://localhost:8080/"
        },
        "id": "slmODywDPSay",
        "outputId": "0b32d4c7-1ca2-41ca-a4e5-4d15158fb80f"
      },
      "id": "slmODywDPSay",
      "execution_count": null,
      "outputs": [
        {
          "output_type": "stream",
          "name": "stdout",
          "text": [
            "Drive already mounted at /content/drive; to attempt to forcibly remount, call drive.mount(\"/content/drive\", force_remount=True).\n"
          ]
        }
      ]
    },
    {
      "cell_type": "code",
      "metadata": {
        "execution": {
          "iopub.execute_input": "2021-04-21T08:49:49.785699Z",
          "iopub.status.busy": "2021-04-21T08:49:49.785028Z",
          "iopub.status.idle": "2021-04-21T08:49:49.788042Z",
          "shell.execute_reply": "2021-04-21T08:49:49.788523Z"
        },
        "papermill": {
          "duration": 0.020486,
          "end_time": "2021-04-21T08:49:49.788700",
          "exception": false,
          "start_time": "2021-04-21T08:49:49.768214",
          "status": "completed"
        },
        "tags": [],
        "id": "vital-senior"
      },
      "source": [
        "input_height = 9\n",
        "input_width = 9\n",
        "input_channel_num = 4\n",
        "# conv_fuse = \"plus\"\n",
        "\n",
        "# conv_1_shape = '4*4*1*16'\n",
        "# pool_1_shape = 'None'\n",
        "\n",
        "# # conv_2_shape = 'None'\n",
        "# conv_2_shape = '4*4*1*32'\n",
        "# pool_2_shape = 'None'\n",
        "\n",
        "# # conv_3_shape = 'None'\n",
        "# conv_3_shape = '4*4*1*64'\n",
        "# pool_3_shape = 'None'\n",
        "\n",
        "# conv_4_shape = '1*1*128*4'\n",
        "# pool_4_shape = 'None'\n",
        "\n",
        "time_step = 1\n",
        "window_size = 1\n",
        "# convolution full connected parameter\n",
        "fc_size = 1024\n",
        "\n",
        "dropout_prob = 0.5\n",
        "np.random.seed(3)\n",
        "\n",
        "calibration = 'N'\n",
        "norm_type = '2D'\n",
        "regularization_method = 'dropout'\n",
        "enable_penalty = True"
      ],
      "id": "vital-senior",
      "execution_count": null,
      "outputs": []
    },
    {
      "cell_type": "code",
      "metadata": {
        "execution": {
          "iopub.execute_input": "2021-04-21T08:49:49.817361Z",
          "iopub.status.busy": "2021-04-21T08:49:49.816685Z",
          "iopub.status.idle": "2021-04-21T08:49:49.823018Z",
          "shell.execute_reply": "2021-04-21T08:49:49.823902Z"
        },
        "papermill": {
          "duration": 0.026245,
          "end_time": "2021-04-21T08:49:49.824052",
          "exception": false,
          "start_time": "2021-04-21T08:49:49.797807",
          "status": "completed"
        },
        "tags": [],
        "id": "residential-anaheim"
      },
      "source": [
        "arousal_key = \"arousal_labels\"\n",
        "valence_key = \"valence_labels\"\n",
        "\n",
        "# def minus(item):\n",
        "#     return item-1\n",
        "\n",
        "def construct_data(input_file, arousal_or_valence=None, bands=[0, 1, 2, 3]):\n",
        "    input_channel_num = len(bands) * time_step\n",
        "\n",
        "    dataset_dir = '/content/drive/MyDrive/DEAP_3D//DE3D_'\n",
        "    ###load training set\n",
        "    print(\"loading \",dataset_dir+input_file,\".mat\")\n",
        "    data_file = sio.loadmat(dataset_dir+input_file+\".mat\")\n",
        "\n",
        "\n",
        "    cnn_datasets = data_file[\"data\"]\n",
        "\n",
        "    #start\n",
        "    arousal_labels = data_file[arousal_key]\n",
        "    valence_labels = data_file[valence_key]\n",
        "\n",
        "    arousal_labels = np.where(arousal_labels == 1, 2, arousal_labels)\n",
        "\n",
        "    curr_labels = np.add(arousal_labels, valence_labels)\n",
        "\n",
        "    # 0 = LALV, 1 = LAHV, 2 = HALV, 3 = HAHV\n",
        "    labels = curr_labels[0]\n",
        "\n",
        "    # print('labels: ', np.unique(labels, return_counts= True))\n",
        "\n",
        "    cnn_datasets = cnn_datasets.transpose(0,2,3,1)\n",
        "\n",
        "    cnn_datasets = cnn_datasets[:,:,:,bands]\n",
        "\n",
        "    cnn_datasets = cnn_datasets.reshape(len(cnn_datasets)//time_step, window_size,input_height,input_width,input_channel_num)\n",
        "\n",
        "    index = np.array(range(0, len(labels)))\n",
        "    np.random.shuffle(index)\n",
        "\n",
        "    cnn_datasets   = cnn_datasets[index].reshape((-1, 4*9*9))\n",
        "    labels  = labels[index]\n",
        "\n",
        "    return cnn_datasets, labels  "
      ],
      "id": "residential-anaheim",
      "execution_count": null,
      "outputs": []
    },
    {
      "cell_type": "code",
      "source": [
        "def multi_acc(y_test, y_pred):   \n",
        "    acc = accuracy_score(y_test, y_pred)\n",
        "    conf_mat = confusion_matrix(y_test, y_pred)\n",
        "    return acc, conf_mat"
      ],
      "metadata": {
        "id": "1ehgFeU61OkG"
      },
      "id": "1ehgFeU61OkG",
      "execution_count": null,
      "outputs": []
    },
    {
      "cell_type": "code",
      "source": [
        "# 0 = LALV, 1 = LAHV, 2 = HALV, 3 = HAHV\n",
        "label_mapping = {0: 'LALV', 1: 'LAHV', 2: 'HALV', 3: 'HAHV'}\n",
        "def report_result(best_model, data_X, data_y, label):\n",
        "  print('\\n',label,'\\n----------------\\n')\n",
        "  nb_classes = 4\n",
        "  data_y_hat = model.predict(data_X)\n",
        "  data_acc, confusion_matrix = multi_acc(data_y, data_y_hat)\n",
        "  print('****** mean classification accuracy: ', round(data_acc*100, 2), '% ******')\n",
        "  # print(confusion_matrix)\n",
        "  print('\\n Accuracy per class\\n ---------------')\n",
        "  acc_per_class = np.diag(confusion_matrix)/np.sum(confusion_matrix, 1)\n",
        "\n",
        "  for i in range(len(acc_per_class)):\n",
        "    print(label_mapping[i], ': ', round(acc_per_class[i]*100, 2), '%')\n",
        "  print('****** mean per class accuracy: ', round(np.mean(acc_per_class)*100, 2),'% ******\\n')"
      ],
      "metadata": {
        "id": "ibZ6tgoXDMqc"
      },
      "id": "ibZ6tgoXDMqc",
      "execution_count": null,
      "outputs": []
    },
    {
      "cell_type": "code",
      "source": [
        "# 0 = LALV, 1 = LAHV, 2 = HALV, 3 = HAHV\n",
        "label_mapping = {0: 'LALV', 1: 'LAHV', 2: 'HALV', 3: 'HAHV'}\n",
        "def get_result(best_model, data_X, data_y, label):\n",
        "  ret = {}\n",
        "  nb_classes = 4\n",
        "  data_y_hat = model.predict(data_X)\n",
        "  data_acc, confusion_matrix = multi_acc(data_y_hat, data_y)\n",
        "  ret['acc'] = round(data_acc*100, 2)\n",
        "  acc_per_class = np.diag(confusion_matrix)/np.sum(confusion_matrix, 1)\n",
        "  for i in range(len(acc_per_class)):\n",
        "    ret[label_mapping[i]] = round(acc_per_class[i]*100, 2)\n",
        "  ret['per_class_acc'] = round(np.mean(acc_per_class)*100, 2)\n",
        "\n",
        "  return ret"
      ],
      "metadata": {
        "id": "2kUFc-iXpPm5"
      },
      "id": "2kUFc-iXpPm5",
      "execution_count": null,
      "outputs": []
    },
    {
      "cell_type": "code",
      "source": [
        "{0: 'LALV', 1: 'LAHV', 2: 'HALV', 3: 'HAHV'}\n",
        "acc_list = []\n",
        "pc_acc_list = []\n",
        "lalv_acc_list = []\n",
        "lahv_acc_list = []\n",
        "halv_acc_list = []\n",
        "hahv_acc_list = []\n",
        "\n",
        "for i in range(16):\n",
        "  sub_id = i + 1\n",
        "  print(\"**************** Process starting for subject no. \", sub_id, \"**************** \\n\")\n",
        "  if sub_id < 10:\n",
        "    input_file = 's0' + str(sub_id)\n",
        "  else:\n",
        "    input_file = 's' + str(sub_id)\n",
        "  data, labels = construct_data(input_file)\n",
        "  X_train, X_test, y_train, y_test = train_test_split(data, labels, test_size=0.2, random_state=1)\n",
        "  X_train, X_val, y_train, y_val = train_test_split(X_train, y_train, test_size=0.25, random_state=1)\n",
        "  model = svm.SVC(C=10000, kernel='rbf')\n",
        "  model.fit(X_train, y_train)\n",
        "  ret = get_result(model, X_test, y_test, 'Test Data')\n",
        "  print('accuracy: ', ret['acc'], '%')\n",
        "  acc_list.append(ret['acc'])\n",
        "  pc_acc_list.append(ret['per_class_acc'])\n",
        "  lalv_acc_list.append(ret['LALV'])\n",
        "  lahv_acc_list.append(ret['LAHV'])\n",
        "  halv_acc_list.append(ret['HALV'])\n",
        "  hahv_acc_list.append(ret['HAHV'])"
      ],
      "metadata": {
        "colab": {
          "base_uri": "https://localhost:8080/"
        },
        "id": "VEXUcQ-Nquth",
        "outputId": "ac957dac-11d5-42bf-9da8-b4c128785fa8"
      },
      "id": "VEXUcQ-Nquth",
      "execution_count": null,
      "outputs": [
        {
          "output_type": "stream",
          "name": "stdout",
          "text": [
            "**************** Process starting for subject no.  1 **************** \n",
            "\n",
            "loading  /content/drive/MyDrive/DEAP_3D//DE3D_s01 .mat\n",
            "accuracy:  96.04 %\n",
            "**************** Process starting for subject no.  2 **************** \n",
            "\n",
            "loading  /content/drive/MyDrive/DEAP_3D//DE3D_s02 .mat\n",
            "accuracy:  81.67 %\n",
            "**************** Process starting for subject no.  3 **************** \n",
            "\n",
            "loading  /content/drive/MyDrive/DEAP_3D//DE3D_s03 .mat\n",
            "accuracy:  87.71 %\n",
            "**************** Process starting for subject no.  4 **************** \n",
            "\n",
            "loading  /content/drive/MyDrive/DEAP_3D//DE3D_s04 .mat\n",
            "accuracy:  87.29 %\n",
            "**************** Process starting for subject no.  5 **************** \n",
            "\n",
            "loading  /content/drive/MyDrive/DEAP_3D//DE3D_s05 .mat\n",
            "accuracy:  77.71 %\n",
            "**************** Process starting for subject no.  6 **************** \n",
            "\n",
            "loading  /content/drive/MyDrive/DEAP_3D//DE3D_s06 .mat\n",
            "accuracy:  92.92 %\n",
            "**************** Process starting for subject no.  7 **************** \n",
            "\n",
            "loading  /content/drive/MyDrive/DEAP_3D//DE3D_s07 .mat\n",
            "accuracy:  95.83 %\n",
            "**************** Process starting for subject no.  8 **************** \n",
            "\n",
            "loading  /content/drive/MyDrive/DEAP_3D//DE3D_s08 .mat\n",
            "accuracy:  90.83 %\n",
            "**************** Process starting for subject no.  9 **************** \n",
            "\n",
            "loading  /content/drive/MyDrive/DEAP_3D//DE3D_s09 .mat\n",
            "accuracy:  86.67 %\n",
            "**************** Process starting for subject no.  10 **************** \n",
            "\n",
            "loading  /content/drive/MyDrive/DEAP_3D//DE3D_s10 .mat\n",
            "accuracy:  90.21 %\n",
            "**************** Process starting for subject no.  11 **************** \n",
            "\n",
            "loading  /content/drive/MyDrive/DEAP_3D//DE3D_s11 .mat\n",
            "accuracy:  84.17 %\n",
            "**************** Process starting for subject no.  12 **************** \n",
            "\n",
            "loading  /content/drive/MyDrive/DEAP_3D//DE3D_s12 .mat\n",
            "accuracy:  86.25 %\n",
            "**************** Process starting for subject no.  13 **************** \n",
            "\n",
            "loading  /content/drive/MyDrive/DEAP_3D//DE3D_s13 .mat\n",
            "accuracy:  93.12 %\n",
            "**************** Process starting for subject no.  14 **************** \n",
            "\n",
            "loading  /content/drive/MyDrive/DEAP_3D//DE3D_s14 .mat\n",
            "accuracy:  90.0 %\n",
            "**************** Process starting for subject no.  15 **************** \n",
            "\n",
            "loading  /content/drive/MyDrive/DEAP_3D//DE3D_s15 .mat\n",
            "accuracy:  93.33 %\n",
            "**************** Process starting for subject no.  16 **************** \n",
            "\n",
            "loading  /content/drive/MyDrive/DEAP_3D//DE3D_s16 .mat\n",
            "accuracy:  94.17 %\n"
          ]
        }
      ]
    },
    {
      "cell_type": "code",
      "source": [
        "result_dict =   {'acc': acc_list,\n",
        "  'pc_acc': pc_acc_list,\n",
        "  'lalv': lalv_acc_list,\n",
        "  'lahv': lahv_acc_list,\n",
        "  'halv': halv_acc_list,\n",
        "  'hahv': hahv_acc_list}"
      ],
      "metadata": {
        "id": "KUf5O7azsR_r"
      },
      "id": "KUf5O7azsR_r",
      "execution_count": null,
      "outputs": []
    },
    {
      "cell_type": "code",
      "source": [
        "np.mean(np.array(result_dict['acc']))"
      ],
      "metadata": {
        "colab": {
          "base_uri": "https://localhost:8080/"
        },
        "id": "vs4YMTCSsT5r",
        "outputId": "e9c28372-d186-4df9-f4ab-ac9cbd9170ba"
      },
      "id": "vs4YMTCSsT5r",
      "execution_count": null,
      "outputs": [
        {
          "output_type": "execute_result",
          "data": {
            "text/plain": [
              "89.245"
            ]
          },
          "metadata": {},
          "execution_count": 167
        }
      ]
    },
    {
      "cell_type": "code",
      "source": [
        "result_dict"
      ],
      "metadata": {
        "colab": {
          "base_uri": "https://localhost:8080/"
        },
        "id": "lmnrxZW5VZTa",
        "outputId": "0cc16550-9e8f-40b8-d451-d1d9bcea4f9f"
      },
      "id": "lmnrxZW5VZTa",
      "execution_count": null,
      "outputs": [
        {
          "output_type": "execute_result",
          "data": {
            "text/plain": [
              "{'acc': [81.25,\n",
              "  75.0,\n",
              "  78.75,\n",
              "  86.25,\n",
              "  71.88,\n",
              "  83.54,\n",
              "  81.88,\n",
              "  76.25,\n",
              "  78.12,\n",
              "  84.17,\n",
              "  83.54,\n",
              "  81.88,\n",
              "  91.25,\n",
              "  81.46,\n",
              "  82.29,\n",
              "  82.08],\n",
              " 'hahv': [88.65,\n",
              "  80.86,\n",
              "  100.0,\n",
              "  81.58,\n",
              "  78.32,\n",
              "  83.56,\n",
              "  85.85,\n",
              "  84.28,\n",
              "  85.63,\n",
              "  86.84,\n",
              "  80.77,\n",
              "  88.12,\n",
              "  91.58,\n",
              "  83.33,\n",
              "  86.46,\n",
              "  82.11],\n",
              " 'halv': [80.83,\n",
              "  70.83,\n",
              "  69.51,\n",
              "  86.05,\n",
              "  69.84,\n",
              "  94.0,\n",
              "  80.77,\n",
              "  79.31,\n",
              "  73.83,\n",
              "  88.79,\n",
              "  86.76,\n",
              "  80.56,\n",
              "  95.71,\n",
              "  89.44,\n",
              "  80.0,\n",
              "  86.18],\n",
              " 'lahv': [81.01,\n",
              "  71.88,\n",
              "  81.54,\n",
              "  95.65,\n",
              "  70.2,\n",
              "  87.37,\n",
              "  81.2,\n",
              "  74.07,\n",
              "  77.05,\n",
              "  84.0,\n",
              "  88.17,\n",
              "  82.61,\n",
              "  75.0,\n",
              "  71.79,\n",
              "  86.26,\n",
              "  82.05],\n",
              " 'lalv': [74.29,\n",
              "  69.37,\n",
              "  77.17,\n",
              "  87.45,\n",
              "  67.48,\n",
              "  68.6,\n",
              "  73.75,\n",
              "  65.87,\n",
              "  73.1,\n",
              "  78.36,\n",
              "  78.42,\n",
              "  68.0,\n",
              "  80.77,\n",
              "  74.14,\n",
              "  77.34,\n",
              "  79.35],\n",
              " 'pc_acc': [81.2,\n",
              "  73.23,\n",
              "  82.05,\n",
              "  87.68,\n",
              "  71.46,\n",
              "  83.39,\n",
              "  80.39,\n",
              "  75.88,\n",
              "  77.4,\n",
              "  84.5,\n",
              "  83.53,\n",
              "  79.82,\n",
              "  85.77,\n",
              "  79.68,\n",
              "  82.52,\n",
              "  82.42]}"
            ]
          },
          "metadata": {},
          "execution_count": 157
        }
      ]
    },
    {
      "cell_type": "code",
      "source": [
        "np.save('result_svm_linear_c.npy', result_dict)"
      ],
      "metadata": {
        "id": "8pfLsht4tTAs"
      },
      "id": "8pfLsht4tTAs",
      "execution_count": null,
      "outputs": []
    },
    {
      "cell_type": "code",
      "source": [
        "temp = np.load('result_svm_rbf.npy', allow_pickle=True)"
      ],
      "metadata": {
        "id": "PkthY6pKXiGk"
      },
      "id": "PkthY6pKXiGk",
      "execution_count": null,
      "outputs": []
    },
    {
      "cell_type": "code",
      "source": [
        "np.mean(np.array(temp.item()['acc']))"
      ],
      "metadata": {
        "colab": {
          "base_uri": "https://localhost:8080/"
        },
        "id": "Ii90XpI38vPs",
        "outputId": "ba11f6c3-cc82-4add-bb8d-d4792dd725fc"
      },
      "id": "Ii90XpI38vPs",
      "execution_count": null,
      "outputs": [
        {
          "output_type": "execute_result",
          "data": {
            "text/plain": [
              "92.78625"
            ]
          },
          "metadata": {},
          "execution_count": 114
        }
      ]
    },
    {
      "cell_type": "code",
      "source": [
        ""
      ],
      "metadata": {
        "id": "1Rog6PEi9HI2"
      },
      "id": "1Rog6PEi9HI2",
      "execution_count": null,
      "outputs": []
    }
  ]
}