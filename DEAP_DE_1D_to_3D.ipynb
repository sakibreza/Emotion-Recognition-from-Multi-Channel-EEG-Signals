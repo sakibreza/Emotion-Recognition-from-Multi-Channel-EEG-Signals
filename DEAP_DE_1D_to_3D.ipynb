{
  "nbformat": 4,
  "nbformat_minor": 0,
  "metadata": {
    "colab": {
      "name": "DEAP_DE_1D_to_3D.ipynb",
      "provenance": [],
      "include_colab_link": true
    },
    "kernelspec": {
      "name": "python3",
      "display_name": "Python 3"
    },
    "language_info": {
      "name": "python"
    },
    "accelerator": "GPU"
  },
  "cells": [
    {
      "cell_type": "markdown",
      "metadata": {
        "id": "view-in-github",
        "colab_type": "text"
      },
      "source": [
        "<a href=\"https://colab.research.google.com/github/sakibreza/Emotion-Recognition-from-Multi-Channel-EEG-Signals/blob/main/DEAP_DE_1D_to_3D.ipynb\" target=\"_parent\"><img src=\"https://colab.research.google.com/assets/colab-badge.svg\" alt=\"Open In Colab\"/></a>"
      ]
    },
    {
      "cell_type": "code",
      "metadata": {
        "id": "bFbWoufBGrtZ"
      },
      "source": [
        "from google.colab import drive\n",
        "import pickle as pickle\n",
        "import matplotlib.pyplot as plt\n",
        "import os\n",
        "import sys\n",
        "import math\n",
        "import numpy as np\n",
        "import pandas as pd\n",
        "import scipy.io as sio\n",
        "from sklearn import preprocessing\n",
        "from scipy.signal import butter, lfilter\n",
        "import time"
      ],
      "execution_count": null,
      "outputs": []
    },
    {
      "cell_type": "code",
      "metadata": {
        "colab": {
          "base_uri": "https://localhost:8080/"
        },
        "id": "JtKnlxXof0xf",
        "outputId": "408aa6d1-52ad-4bee-a978-612d84911d5e"
      },
      "source": [
        "drive.mount('/content/drive')"
      ],
      "execution_count": null,
      "outputs": [
        {
          "output_type": "stream",
          "name": "stdout",
          "text": [
            "Mounted at /content/drive\n"
          ]
        }
      ]
    },
    {
      "cell_type": "code",
      "metadata": {
        "colab": {
          "base_uri": "https://localhost:8080/"
        },
        "id": "WaU2Q6KAf21r",
        "outputId": "b4c5d081-c093-45fc-92d6-f57c25a7b292"
      },
      "source": [
        "import os\n",
        "path = '/content/drive/MyDrive/DEAP'\n",
        "os.chdir(path)\n",
        "print(os.getcwd()) "
      ],
      "execution_count": null,
      "outputs": [
        {
          "output_type": "stream",
          "name": "stdout",
          "text": [
            "/content/drive/MyDrive/DEAP\n"
          ]
        }
      ]
    },
    {
      "cell_type": "code",
      "metadata": {
        "id": "6vbENAjBfD0Z"
      },
      "source": [
        "def read_file(file):\n",
        "\tfile = sio.loadmat(file)\n",
        "\ttrial_data = file['data']\n",
        "\tbase_data = file[\"base_data\"]\n",
        "\treturn trial_data,base_data,file[\"arousal_labels\"],file[\"valence_labels\"]\n",
        "\n",
        "def get_vector_deviation(vector1,vector2):\n",
        "\treturn vector1-vector2\n",
        "\n",
        "def get_dataset_deviation(trial_data,base_data):\n",
        "\tnew_dataset = np.empty([0,128])\n",
        "\tfor i in range(0,2400):\n",
        "\t\tbase_index = i//60\n",
        "\t\t# print(base_index)\n",
        "\t\tbase_index = 39 if base_index == 40 else base_index\n",
        "\t\tnew_record = get_vector_deviation(trial_data[i],base_data[base_index]).reshape(1,128)\n",
        "\t\t# print(new_record.shape)\n",
        "\t\tnew_dataset = np.vstack([new_dataset,new_record])\n",
        "\t\t# print(\"new shape:\",new_dataset.shape)\n",
        "\treturn new_dataset\n",
        "\n",
        "def data_1Dto2D(data, Y=9, X=9):\n",
        "\tdata_2D = np.zeros([Y, X])\n",
        "\tdata_2D[0] = (0,        0,          0,          data[0],    0,          data[16],   0,          0,          0       )\n",
        "\tdata_2D[1] = (0,        0,          0,          data[1],    0,          data[17],   0,          0,          0       )\n",
        "\tdata_2D[2] = (data[3],  0,          data[2],    0,          data[18],   0,          data[19],   0,          data[20])\n",
        "\tdata_2D[3] = (0,        data[4],    0,          data[5],    0,          data[22],   0,          data[21],   0       )\n",
        "\tdata_2D[4] = (data[7],  0,          data[6],    0,          data[23],   0,          data[24],   0,          data[25])\n",
        "\tdata_2D[5] = (0,        data[8],    0,          data[9],    0,          data[27],   0,          data[26],   0       )\n",
        "\tdata_2D[6] = (data[11], 0,          data[10],   0,          data[15],   0,          data[28],   0,          data[29])\n",
        "\tdata_2D[7] = (0,        0,          0,          data[12],   0,          data[30],   0,          0,          0       )\n",
        "\tdata_2D[8] = (0,        0,          0,          data[13],   data[14],   data[31],   0,          0,          0       )\n",
        "\t# return shape:9*9\n",
        "\treturn data_2D\n",
        "\n",
        "def pre_process(path,y_n):\n",
        "\t# DE feature vector dimension of each band \n",
        "\tdata_3D = np.empty([0,9,9])\n",
        "\tsub_vector_len = 32\n",
        "\ttrial_data,base_data,arousal_labels,valence_labels = read_file(path)\n",
        "\tif y_n==\"yes\":\n",
        "\t\tdata = get_dataset_deviation(trial_data,base_data)\n",
        "\t\tdata = preprocessing.scale(data,axis=1, with_mean=True,with_std=True,copy=True)\n",
        "\telse:\n",
        "\t\tdata = preprocessing.scale(trial_data,axis=1, with_mean=True,with_std=True,copy=True)\n",
        "\t# convert 128 vector ---> 4*9*9 cube\n",
        "\tfor vector in data:\n",
        "\t\tfor band in range(0,4):\n",
        "\t\t\tdata_2D_temp = data_1Dto2D(vector[band*sub_vector_len:(band+1)*sub_vector_len])\n",
        "\t\t\tdata_2D_temp = data_2D_temp.reshape(1,9,9)\n",
        "\t\t\t# print(\"data_2d_temp shape:\",data_2D_temp.shape)\n",
        "\t\t\tdata_3D = np.vstack([data_3D,data_2D_temp])\n",
        "\tdata_3D = data_3D.reshape(-1,4,9,9)\n",
        "\tprint(\"final data shape:\",data_3D.shape)\n",
        "\treturn data_3D,arousal_labels,valence_labels"
      ],
      "execution_count": null,
      "outputs": []
    },
    {
      "cell_type": "code",
      "metadata": {
        "colab": {
          "base_uri": "https://localhost:8080/"
        },
        "id": "A7TvbZcH8id5",
        "outputId": "6bed2bf7-6fc8-4d3e-d2de-b3362132f683"
      },
      "source": [
        "dataset_dir = \"/content/drive/MyDrive/DEAP_DE/\"\n",
        "use_baseline = \"no\"\n",
        "if use_baseline==\"yes\":\n",
        "  result_dir = \"/content/drive/MyDrive/DEAP_3D/\"\n",
        "  if os.path.isdir(result_dir)==False:\n",
        "    os.makedirs(result_dir)\n",
        "else:\n",
        "  result_dir = \"/content/drive/MyDrive/DEAP_3D_wo_base/\"\n",
        "  if os.path.isdir(result_dir)==False:\n",
        "    os.makedirs(result_dir)\n",
        "\n",
        "for file in os.listdir(dataset_dir):\n",
        "  if file == '.ipynb_checkpoints': continue \n",
        "  print(\"processing: \",file,\"......\")\n",
        "  file_path = os.path.join(dataset_dir,file)\n",
        "  data,arousal_labels,valence_labels = pre_process(file_path,use_baseline)\n",
        "  print(\"final shape:\",data.shape)\n",
        "  sio.savemat(result_dir+file[:2]+'3D'+file[2:],{\"data\":data,\"valence_labels\":valence_labels,\"arousal_labels\":arousal_labels})"
      ],
      "execution_count": null,
      "outputs": [
        {
          "output_type": "stream",
          "name": "stdout",
          "text": [
            "processing:  DE_s01.mat ......\n",
            "final data shape: (2400, 4, 9, 9)\n",
            "final shape: (2400, 4, 9, 9)\n",
            "processing:  DE_s02.mat ......\n",
            "final data shape: (2400, 4, 9, 9)\n",
            "final shape: (2400, 4, 9, 9)\n",
            "processing:  DE_s03.mat ......\n",
            "final data shape: (2400, 4, 9, 9)\n",
            "final shape: (2400, 4, 9, 9)\n",
            "processing:  DE_s04.mat ......\n",
            "final data shape: (2400, 4, 9, 9)\n",
            "final shape: (2400, 4, 9, 9)\n",
            "processing:  DE_s05.mat ......\n",
            "final data shape: (2400, 4, 9, 9)\n",
            "final shape: (2400, 4, 9, 9)\n",
            "processing:  DE_s06.mat ......\n",
            "final data shape: (2400, 4, 9, 9)\n",
            "final shape: (2400, 4, 9, 9)\n",
            "processing:  DE_s07.mat ......\n",
            "final data shape: (2400, 4, 9, 9)\n",
            "final shape: (2400, 4, 9, 9)\n",
            "processing:  DE_s08.mat ......\n",
            "final data shape: (2400, 4, 9, 9)\n",
            "final shape: (2400, 4, 9, 9)\n",
            "processing:  DE_s09.mat ......\n",
            "final data shape: (2400, 4, 9, 9)\n",
            "final shape: (2400, 4, 9, 9)\n",
            "processing:  DE_s10.mat ......\n",
            "final data shape: (2400, 4, 9, 9)\n",
            "final shape: (2400, 4, 9, 9)\n",
            "processing:  DE_s11.mat ......\n",
            "final data shape: (2400, 4, 9, 9)\n",
            "final shape: (2400, 4, 9, 9)\n",
            "processing:  DE_s12.mat ......\n",
            "final data shape: (2400, 4, 9, 9)\n",
            "final shape: (2400, 4, 9, 9)\n",
            "processing:  DE_s13.mat ......\n",
            "final data shape: (2400, 4, 9, 9)\n",
            "final shape: (2400, 4, 9, 9)\n",
            "processing:  DE_s14.mat ......\n",
            "final data shape: (2400, 4, 9, 9)\n",
            "final shape: (2400, 4, 9, 9)\n",
            "processing:  DE_s15.mat ......\n",
            "final data shape: (2400, 4, 9, 9)\n",
            "final shape: (2400, 4, 9, 9)\n",
            "processing:  DE_s16.mat ......\n",
            "final data shape: (2400, 4, 9, 9)\n",
            "final shape: (2400, 4, 9, 9)\n",
            "processing:  DE_s17.mat ......\n",
            "final data shape: (2400, 4, 9, 9)\n",
            "final shape: (2400, 4, 9, 9)\n",
            "processing:  DE_s18.mat ......\n",
            "final data shape: (2400, 4, 9, 9)\n",
            "final shape: (2400, 4, 9, 9)\n",
            "processing:  DE_s19.mat ......\n",
            "final data shape: (2400, 4, 9, 9)\n",
            "final shape: (2400, 4, 9, 9)\n",
            "processing:  DE_s20.mat ......\n",
            "final data shape: (2400, 4, 9, 9)\n",
            "final shape: (2400, 4, 9, 9)\n",
            "processing:  DE_s21.mat ......\n",
            "final data shape: (2400, 4, 9, 9)\n",
            "final shape: (2400, 4, 9, 9)\n",
            "processing:  DE_s22.mat ......\n",
            "final data shape: (2400, 4, 9, 9)\n",
            "final shape: (2400, 4, 9, 9)\n",
            "processing:  DE_s23.mat ......\n",
            "final data shape: (2400, 4, 9, 9)\n",
            "final shape: (2400, 4, 9, 9)\n",
            "processing:  DE_s24.mat ......\n",
            "final data shape: (2400, 4, 9, 9)\n",
            "final shape: (2400, 4, 9, 9)\n",
            "processing:  DE_s25.mat ......\n",
            "final data shape: (2400, 4, 9, 9)\n",
            "final shape: (2400, 4, 9, 9)\n",
            "processing:  DE_s26.mat ......\n",
            "final data shape: (2400, 4, 9, 9)\n",
            "final shape: (2400, 4, 9, 9)\n",
            "processing:  DE_s27.mat ......\n",
            "final data shape: (2400, 4, 9, 9)\n",
            "final shape: (2400, 4, 9, 9)\n",
            "processing:  DE_s28.mat ......\n",
            "final data shape: (2400, 4, 9, 9)\n",
            "final shape: (2400, 4, 9, 9)\n",
            "processing:  DE_s29.mat ......\n",
            "final data shape: (2400, 4, 9, 9)\n",
            "final shape: (2400, 4, 9, 9)\n",
            "processing:  DE_s30.mat ......\n",
            "final data shape: (2400, 4, 9, 9)\n",
            "final shape: (2400, 4, 9, 9)\n",
            "processing:  DE_s31.mat ......\n",
            "final data shape: (2400, 4, 9, 9)\n",
            "final shape: (2400, 4, 9, 9)\n",
            "processing:  DE_s32.mat ......\n",
            "final data shape: (2400, 4, 9, 9)\n",
            "final shape: (2400, 4, 9, 9)\n"
          ]
        }
      ]
    },
    {
      "cell_type": "code",
      "metadata": {
        "id": "1jLZVfgHtr0e"
      },
      "source": [
        ""
      ],
      "execution_count": null,
      "outputs": []
    }
  ]
}